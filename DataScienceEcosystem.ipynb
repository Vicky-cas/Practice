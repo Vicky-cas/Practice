{
 "cells": [
  {
   "cell_type": "markdown",
   "id": "8abc6330-5b32-4c2f-92b9-65f2682468ea",
   "metadata": {},
   "source": [
    "# Data Science Tools and Ecosystem"
   ]
  },
  {
   "cell_type": "markdown",
   "id": "63a7fa79-a778-47d6-8c19-ddcfd6af676e",
   "metadata": {},
   "source": [
    "In this notebook, Data Science Tools and Ecosystem are summarized."
   ]
  },
  {
   "cell_type": "markdown",
   "id": "96cf83c8-e9a0-4b2a-963f-2b8dd2308263",
   "metadata": {},
   "source": [
    "**Objectives:**\n",
    "+ List popular languages for Data Science  \n",
    "+ List some libraries for Data Science  \n",
    "+ List some open source tools for Data Science  "
   ]
  },
  {
   "cell_type": "markdown",
   "id": "6596f25a-915e-4d44-ac56-9384017ee68e",
   "metadata": {},
   "source": [
    "Some of the popular languages that Data Scientists use are:\n",
    "1. Python\n",
    "2. R\n",
    "3. Java\n",
    "4. Julia\n",
    "5. Scala"
   ]
  },
  {
   "cell_type": "markdown",
   "id": "ab165d3d-e353-4f55-88ed-ae60a99e0675",
   "metadata": {},
   "source": [
    "Some of the commonly used libraries used by Data Scientists include:\n",
    "1. Numpy\n",
    "2. Pandas\n",
    "3. Matplotlib\n",
    "4. ggplot2\n",
    "5. dplyr"
   ]
  },
  {
   "cell_type": "markdown",
   "id": "9c3d5795-191e-4984-adc3-bde48ab0a66e",
   "metadata": {},
   "source": [
    "| Data Science Tools |\n",
    "|--------------------|\n",
    "|Jupyter notebook |\n",
    "| R studio |\n",
    "|Visual Studio Code|"
   ]
  },
  {
   "cell_type": "markdown",
   "id": "4245ea35-0dd2-48ad-8d2e-186252a7b548",
   "metadata": {},
   "source": [
    "### Below are a few examples of evaluating arithmetic expressions in Python "
   ]
  },
  {
   "cell_type": "code",
   "execution_count": 11,
   "id": "1bec5315-aa41-4567-98a7-1c1078600707",
   "metadata": {},
   "outputs": [
    {
     "name": "stdout",
     "output_type": "stream",
     "text": [
      "17\n"
     ]
    }
   ],
   "source": [
    "#This a simple arithmetic expression to mutiply then add integers\n",
    "a=(3*4)+5\n",
    "print(a)"
   ]
  },
  {
   "cell_type": "code",
   "execution_count": 13,
   "id": "27daf589-e880-456c-b0a1-b45ed5331866",
   "metadata": {},
   "outputs": [
    {
     "name": "stdout",
     "output_type": "stream",
     "text": [
      " 200 minutes is 3.33 hours \n"
     ]
    }
   ],
   "source": [
    "# This will convert 200 minutes to hours by diving by 60\n",
    "minutes=200\n",
    "hours=minutes/60\n",
    "print(' %d minutes is %.2f hours ' % (minutes,hours))"
   ]
  },
  {
   "cell_type": "code",
   "execution_count": null,
   "id": "109447d2-2f20-4421-830e-369a5cb996f3",
   "metadata": {},
   "outputs": [],
   "source": [
    "## Author \n",
    "Wu Yi Hsuan"
   ]
  }
 ],
 "metadata": {
  "kernelspec": {
   "display_name": "Python [conda env:base] *",
   "language": "python",
   "name": "conda-base-py"
  },
  "language_info": {
   "codemirror_mode": {
    "name": "ipython",
    "version": 3
   },
   "file_extension": ".py",
   "mimetype": "text/x-python",
   "name": "python",
   "nbconvert_exporter": "python",
   "pygments_lexer": "ipython3",
   "version": "3.12.7"
  }
 },
 "nbformat": 4,
 "nbformat_minor": 5
}
